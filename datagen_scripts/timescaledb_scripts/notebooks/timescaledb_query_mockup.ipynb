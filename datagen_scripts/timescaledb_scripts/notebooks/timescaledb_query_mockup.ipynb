{
 "cells": [
  {
   "cell_type": "code",
   "execution_count": null,
   "metadata": {
    "scrolled": true
   },
   "outputs": [],
   "source": [
    "import psycopg2\n",
    "import matplotlib.gridspec as gridspec\n",
    "import matplotlib.pyplot as plt"
   ]
  },
  {
   "cell_type": "code",
   "execution_count": null,
   "metadata": {},
   "outputs": [],
   "source": [
    "\"\"\"This mocks up showing a preview of the top 10 segments that \n",
    "match the criteria, in this case recency. We could also use other\n",
    "criteria such as segment length, average segment value, recency, etc.\n",
    "\"\"\"\n",
    "\n",
    "# Connect to DB\n",
    "conn = psycopg2.connect(\"dbname=testdata user=postgres host=localhost password=postgres\")\n",
    "cur = conn.cursor()\n",
    "\n",
    "# TODO: Change filter ranges and rerun processing to get new temp table\n",
    "\n",
    "# Query across temp processed table to get top k segments by recency\n",
    "# We should replace this with a new query once we've finished our implementation\n",
    "# Note the json_agg function, which is used to return a json array of values across\n",
    "# multiple rows. This can then be plotted directly in the UI.\n",
    "query = \"\"\"SELECT start_date, end_date, json_agg(sine1_value ORDER BY my_datetime)\n",
    "FROM sinewaves_matching_ranges_temp, sinewaves_data\n",
    "WHERE sinewaves_data.my_datetime >=start_date AND sinewaves_data.my_datetime <= end_date\n",
    "GROUP BY start_date, end_date\n",
    "ORDER BY end_date DESC\n",
    "LIMIT 10\"\"\"\n",
    "\n",
    "cur.execute(query)\n",
    "\n",
    "start_end_dates = []\n",
    "data = []\n",
    "\n",
    "for record in cur:\n",
    "    start_end_dates.append((record[0], record[1]))\n",
    "    data.append(record[2])\n",
    "\n",
    "# TODO: parameterize number of plots\n",
    "gs = gridspec.GridSpec(10,1)\n",
    "fig = plt.figure()\n",
    "# Now plot data\n",
    "for idx, recs in enumerate(data):\n",
    "    ax = fig.add_subplot(gs[idx])\n",
    "    ax.plot(recs)"
   ]
  },
  {
   "cell_type": "code",
   "execution_count": null,
   "metadata": {},
   "outputs": [],
   "source": [
    "# Show a window for a specific plot\n",
    "idx = 0  # 0 to 9\n",
    "\n",
    "# Note the use of two json_agg functions to get the value and the \n",
    "# timestamps\n",
    "# TODO: parameterize window\n",
    "query = \"\"\"SELECT json_agg(my_datetime ORDER BY my_datetime), \n",
    "json_agg(sine1_value ORDER BY my_datetime)\n",
    "FROM sinewaves_data\n",
    "WHERE my_datetime >= timestamp '2018-12-14 05:06:00' - interval '30 minutes' AND\n",
    "my_datetime <= timestamp '2018-12-14 05:07:00' + interval '30 minutes';\"\"\"\n",
    "\n",
    "cur.execute(query)\n",
    "\n",
    "x_values = []\n",
    "results = []\n",
    "for record in cur:\n",
    "    x_values.append(record[0])\n",
    "    results.append(record[1])\n",
    "\n",
    "plt.plot(x_values[0], results[0])"
   ]
  },
  {
   "cell_type": "code",
   "execution_count": null,
   "metadata": {},
   "outputs": [],
   "source": []
  }
 ],
 "metadata": {
  "kernelspec": {
   "display_name": "Python 3",
   "language": "python",
   "name": "python3"
  },
  "language_info": {
   "codemirror_mode": {
    "name": "ipython",
    "version": 3
   },
   "file_extension": ".py",
   "mimetype": "text/x-python",
   "name": "python",
   "nbconvert_exporter": "python",
   "pygments_lexer": "ipython3",
   "version": "3.6.7"
  }
 },
 "nbformat": 4,
 "nbformat_minor": 2
}
